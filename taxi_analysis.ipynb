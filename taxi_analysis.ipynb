{
  "nbformat": 4,
  "nbformat_minor": 0,
  "metadata": {
    "colab": {
      "name": "Assignment_IonBueno_DanielGil_DanielMartín.ipynb",
      "provenance": [],
      "collapsed_sections": [],
      "toc_visible": true,
      "include_colab_link": true
    },
    "kernelspec": {
      "name": "python3",
      "display_name": "Python 3"
    },
    "language_info": {
      "name": "python"
    }
  },
  "cells": [
    {
      "cell_type": "markdown",
      "metadata": {
        "id": "view-in-github",
        "colab_type": "text"
      },
      "source": [
        "<a href=\"https://colab.research.google.com/github/DnlMrtnC/danis_y_el_bueno/blob/master/high%20performance/Assignment_IonBueno_DanielGil_DanielMart%C3%ADn.ipynb\" target=\"_parent\"><img src=\"https://colab.research.google.com/assets/colab-badge.svg\" alt=\"Open In Colab\"/></a>"
      ]
    },
    {
      "cell_type": "markdown",
      "metadata": {
        "id": "8LEF9yi7J56K"
      },
      "source": [
        "# Team participants\n",
        "\n",
        "The participants of the assignment and their corresponding NIAs are the following:\n",
        "\n",
        "\n",
        "*   Ion Bueno Ulacia $ \\hspace{2em} $ NIA 100364530\n",
        "*   Daniel Gil Santiuste $ \\hspace{1em} $ NIA 100364564\n",
        "*   Daniel Martín Cruz $ \\hspace{1.4em} $ NIA 100384121\n",
        "\n",
        "\n",
        "\n"
      ]
    },
    {
      "cell_type": "markdown",
      "metadata": {
        "id": "y9CqwpcikOG-"
      },
      "source": [
        "# 1 - PySpark Session\n",
        "\n",
        "First, we start a Spark session with the code provided in class and import the required libraries."
      ]
    },
    {
      "cell_type": "code",
      "metadata": {
        "id": "7VM1IOazbTPe"
      },
      "source": [
        "!apt-get install openjdk-8-jdk-headless -qq > /dev/null\n",
        "!wget -q https://dlcdn.apache.org/spark/spark-3.1.2/spark-3.1.2-bin-hadoop3.2.tgz\n",
        "!tar xf spark-3.1.2-bin-hadoop3.2.tgz\n",
        "!pip install -q findspark"
      ],
      "execution_count": null,
      "outputs": []
    },
    {
      "cell_type": "code",
      "metadata": {
        "id": "Lq5p9S6AbV7-"
      },
      "source": [
        "import os\n",
        "os.environ[\"JAVA_HOME\"] = \"/usr/lib/jvm/java-8-openjdk-amd64\"\n",
        "os.environ[\"SPARK_HOME\"] = \"/content/spark-3.1.2-bin-hadoop3.2\""
      ],
      "execution_count": null,
      "outputs": []
    },
    {
      "cell_type": "code",
      "metadata": {
        "id": "Ap4bJMIbbYgq"
      },
      "source": [
        "import findspark\n",
        "findspark.init()"
      ],
      "execution_count": null,
      "outputs": []
    },
    {
      "cell_type": "code",
      "metadata": {
        "id": "O1J0ILMtbbWU",
        "colab": {
          "base_uri": "https://localhost:8080/",
          "height": 216
        },
        "outputId": "bf171929-e1ae-41f7-efc7-1941c253db9f"
      },
      "source": [
        "from pyspark.sql import SparkSession\n",
        "from pyspark import SparkContext, SparkConf\n",
        "from pyspark.sql.functions import *\n",
        "\n",
        "conf = SparkConf().set('spark.ui.port', '4050')\n",
        "sc = SparkContext(conf=conf)\n",
        "spark = SparkSession.builder.master('local[*]').getOrCreate() # '*' represents the number of cores to be used (all of them in this case)\n",
        "\n",
        "spark"
      ],
      "execution_count": null,
      "outputs": [
        {
          "output_type": "execute_result",
          "data": {
            "text/html": [
              "\n",
              "            <div>\n",
              "                <p><b>SparkSession - in-memory</b></p>\n",
              "                \n",
              "        <div>\n",
              "            <p><b>SparkContext</b></p>\n",
              "\n",
              "            <p><a href=\"http://2156ab7d5019:4050\">Spark UI</a></p>\n",
              "\n",
              "            <dl>\n",
              "              <dt>Version</dt>\n",
              "                <dd><code>v3.1.2</code></dd>\n",
              "              <dt>Master</dt>\n",
              "                <dd><code>local[*]</code></dd>\n",
              "              <dt>AppName</dt>\n",
              "                <dd><code>pyspark-shell</code></dd>\n",
              "            </dl>\n",
              "        </div>\n",
              "        \n",
              "            </div>\n",
              "        "
            ],
            "text/plain": [
              "<pyspark.sql.session.SparkSession at 0x7f7a92436290>"
            ]
          },
          "metadata": {},
          "execution_count": 4
        }
      ]
    },
    {
      "cell_type": "markdown",
      "metadata": {
        "id": "b4SG9LcsMA7j"
      },
      "source": [
        "# 2 - Datasets\n",
        "\n",
        "Two datasets are employed for the study cases:\n",
        "\n",
        "\n",
        "1.   Truncated dataset of picked taxis in January 2017.\n",
        "2.   List of taxi zones.\n",
        "\n",
        "\n"
      ]
    },
    {
      "cell_type": "markdown",
      "metadata": {
        "id": "HRnsgnfjWfCR"
      },
      "source": [
        "## 2.1 - Taxis\n",
        "\n"
      ]
    },
    {
      "cell_type": "markdown",
      "metadata": {
        "id": "GDbFKUmpTSdL"
      },
      "source": [
        "First, the csv table is read and converted to a Spark DataFrame."
      ]
    },
    {
      "cell_type": "code",
      "metadata": {
        "id": "WP3OHJ24iBgL"
      },
      "source": [
        "df = spark.read.format(\"csv\").option(\"inferschema\", \"true\").option(\"header\", \"true\").option(\"mode\", \"DROPMALFORMED\").load(\"tripdata_2017-01.csv\")"
      ],
      "execution_count": null,
      "outputs": []
    },
    {
      "cell_type": "markdown",
      "metadata": {
        "id": "_myTRh7_Tuuh"
      },
      "source": [
        "We can check the number of registers (rows) and how many records are associated (columns). We defined a function which prints the number of rows and columns from a given DataFrame. It is employed during the whole notebook."
      ]
    },
    {
      "cell_type": "code",
      "metadata": {
        "id": "JUOGLxz6eHcE"
      },
      "source": [
        "def print_shape(table):\n",
        "    \"\"\"Print the number of rows and columns of a DataFrame\n",
        "\n",
        "    Args:\n",
        "        table: input DataFrame\n",
        "\n",
        "    \"\"\"\n",
        "    print(f'\\nSHAPE')\n",
        "    print(20*'-')\n",
        "    print(f\"{'|Rows':8} | {'Columns |':10}\")\n",
        "    print(20*'-')\n",
        "    print(f\"|{table.count():<7} | {len(table.columns):<8}|\")\n",
        "    print(20*'-')   "
      ],
      "execution_count": null,
      "outputs": []
    },
    {
      "cell_type": "code",
      "metadata": {
        "colab": {
          "base_uri": "https://localhost:8080/"
        },
        "id": "zn5ypGtYeRM9",
        "outputId": "af84839e-bbab-4426-c4da-a2231ff24bce"
      },
      "source": [
        "print_shape(df)"
      ],
      "execution_count": null,
      "outputs": [
        {
          "output_type": "stream",
          "name": "stdout",
          "text": [
            "\n",
            "SHAPE\n",
            "--------------------\n",
            "|Rows    | Columns | \n",
            "--------------------\n",
            "|971010  | 17      |\n",
            "--------------------\n"
          ]
        }
      ]
    },
    {
      "cell_type": "markdown",
      "metadata": {
        "id": "s53XQFkQVaNv"
      },
      "source": [
        "The records as columns are the following."
      ]
    },
    {
      "cell_type": "code",
      "metadata": {
        "colab": {
          "base_uri": "https://localhost:8080/"
        },
        "id": "LF1gRVjdmaop",
        "outputId": "47dc1f58-142e-4666-cb13-0d7ba473ab7e"
      },
      "source": [
        "print(*df.columns, sep = \"\\n\")"
      ],
      "execution_count": null,
      "outputs": [
        {
          "output_type": "stream",
          "name": "stdout",
          "text": [
            "VendorID\n",
            "tpep_pickup_datetime\n",
            "tpep_dropoff_datetime\n",
            "passenger_count\n",
            "trip_distance\n",
            "RatecodeID\n",
            "store_and_fwd_flag\n",
            "PULocationID\n",
            "DOLocationID\n",
            "payment_type\n",
            "fare_amount\n",
            "extra\n",
            "mta_tax\n",
            "tip_amount\n",
            "tolls_amount\n",
            "improvement_surcharge\n",
            "total_amount\n"
          ]
        }
      ]
    },
    {
      "cell_type": "markdown",
      "metadata": {
        "id": "4OMi0l0SV7Qt"
      },
      "source": [
        "We can easily print statistics of these records."
      ]
    },
    {
      "cell_type": "code",
      "metadata": {
        "colab": {
          "base_uri": "https://localhost:8080/"
        },
        "id": "MDJvxcYzkVVC",
        "outputId": "a028fa57-1baf-42a7-d0b0-86afecadecac"
      },
      "source": [
        "df.summary().show() # print summary "
      ],
      "execution_count": null,
      "outputs": [
        {
          "output_type": "stream",
          "name": "stdout",
          "text": [
            "+-------+------------------+--------------------+---------------------+------------------+------------------+------------------+------------------+------------------+-----------------+------------------+-----------------+-------------------+--------------------+-----------------+-------------------+---------------------+-----------------+\n",
            "|summary|          VendorID|tpep_pickup_datetime|tpep_dropoff_datetime|   passenger_count|     trip_distance|        RatecodeID|store_and_fwd_flag|      PULocationID|     DOLocationID|      payment_type|      fare_amount|              extra|             mta_tax|       tip_amount|       tolls_amount|improvement_surcharge|     total_amount|\n",
            "+-------+------------------+--------------------+---------------------+------------------+------------------+------------------+------------------+------------------+-----------------+------------------+-----------------+-------------------+--------------------+-----------------+-------------------+---------------------+-----------------+\n",
            "|  count|            971010|              971010|               971010|            971010|            971010|            971010|            971010|            971010|           971010|            971010|           971010|             971010|              971010|           971010|             971010|               971010|           971010|\n",
            "|   mean|1.5569510097733288|                null|                 null|1.6859888157691476|3.0312848786314768|1.0447286845655555|              null|160.37803112223355|158.5567120832947|1.3719735121162502|13.10818815460185| 0.2099927704143109|  0.4972142408420099|1.679028269533505|0.28018088382190565|  0.29962863410333324|16.07811082267935|\n",
            "| stddev|0.4967462497187958|                null|                 null| 1.291704683757417|3.7858472332116695|0.4616312653743067|              null| 67.93819834229265|72.27682104933935|0.5033263270235232|546.7369331190924|0.26163400368201123|0.040585946446091474|2.571364110419981| 1.7369077136569515| 0.014468410899185564|546.7901022658606|\n",
            "|    min|                 1| 2017-01-01 00:00:00|  2017-01-01 00:00:00|                 0|               0.0|                 1|                 N|                 1|                1|                 1|           -120.0|               -1.0|                -0.5|            -6.06|                0.0|                 -0.3|           -120.3|\n",
            "|    25%|                 1|                null|                 null|                 1|               1.0|                 1|              null|               113|              100|                 1|              6.5|                0.0|                 0.5|              0.0|                0.0|                  0.3|             8.16|\n",
            "|    50%|                 2|                null|                 null|                 1|               1.7|                 1|              null|               161|              161|                 1|              9.0|                0.0|                 0.5|             1.16|                0.0|                  0.3|            11.27|\n",
            "|    75%|                 2|                null|                 null|                 2|              3.25|                 1|              null|               231|              233|                 2|             14.0|                0.5|                 0.5|              2.2|                0.0|                  0.3|            16.83|\n",
            "|    max|                 2| 2017-01-31 15:41:14|  2017-01-31 16:02:32|                 9|             151.7|                99|                 Y|               265|              265|                 4|         538579.2|              55.54|                 0.5|            366.0|             905.54|                  0.3|         538580.0|\n",
            "+-------+------------------+--------------------+---------------------+------------------+------------------+------------------+------------------+------------------+-----------------+------------------+-----------------+-------------------+--------------------+-----------------+-------------------+---------------------+-----------------+\n",
            "\n"
          ]
        }
      ]
    },
    {
      "cell_type": "markdown",
      "metadata": {
        "id": "3mdn4jScWNp5"
      },
      "source": [
        "And some registers."
      ]
    },
    {
      "cell_type": "code",
      "metadata": {
        "colab": {
          "base_uri": "https://localhost:8080/"
        },
        "id": "DLITwl2_lLqJ",
        "outputId": "16a2a2b1-af52-4458-d499-5b153b1d57a2"
      },
      "source": [
        "df.show(10) # print 10 registers"
      ],
      "execution_count": null,
      "outputs": [
        {
          "output_type": "stream",
          "name": "stdout",
          "text": [
            "+--------+--------------------+---------------------+---------------+-------------+----------+------------------+------------+------------+------------+-----------+-----+-------+----------+------------+---------------------+------------+\n",
            "|VendorID|tpep_pickup_datetime|tpep_dropoff_datetime|passenger_count|trip_distance|RatecodeID|store_and_fwd_flag|PULocationID|DOLocationID|payment_type|fare_amount|extra|mta_tax|tip_amount|tolls_amount|improvement_surcharge|total_amount|\n",
            "+--------+--------------------+---------------------+---------------+-------------+----------+------------------+------------+------------+------------+-----------+-----+-------+----------+------------+---------------------+------------+\n",
            "|       1| 2017-01-09 11:13:28|  2017-01-09 11:25:45|              1|          3.3|         1|                 N|         263|         161|           1|       12.5|  0.0|    0.5|       2.0|         0.0|                  0.3|        15.3|\n",
            "|       1| 2017-01-09 11:32:27|  2017-01-09 11:36:01|              1|          0.9|         1|                 N|         186|         234|           1|        5.0|  0.0|    0.5|      1.45|         0.0|                  0.3|        7.25|\n",
            "|       1| 2017-01-09 11:38:20|  2017-01-09 11:42:05|              1|          1.1|         1|                 N|         164|         161|           1|        5.5|  0.0|    0.5|       1.0|         0.0|                  0.3|         7.3|\n",
            "|       1| 2017-01-09 11:52:13|  2017-01-09 11:57:36|              1|          1.1|         1|                 N|         236|          75|           1|        6.0|  0.0|    0.5|       1.7|         0.0|                  0.3|         8.5|\n",
            "|       2| 2017-01-01 00:00:00|  2017-01-01 00:00:00|              1|         0.02|         2|                 N|         249|         234|           2|       52.0|  0.0|    0.5|       0.0|         0.0|                  0.3|        52.8|\n",
            "|       1| 2017-01-01 00:00:02|  2017-01-01 00:03:50|              1|          0.5|         1|                 N|          48|          48|           2|        4.0|  0.5|    0.5|       0.0|         0.0|                  0.3|         5.3|\n",
            "|       2| 2017-01-01 00:00:02|  2017-01-01 00:39:22|              4|         7.75|         1|                 N|         186|          36|           1|       22.0|  0.5|    0.5|      4.66|         0.0|                  0.3|       27.96|\n",
            "|       1| 2017-01-01 00:00:03|  2017-01-01 00:06:58|              1|          0.8|         1|                 N|         162|         161|           1|        6.0|  0.5|    0.5|      1.45|         0.0|                  0.3|        8.75|\n",
            "|       1| 2017-01-01 00:00:05|  2017-01-01 00:08:33|              2|          0.9|         1|                 N|          48|          50|           1|        7.0|  0.5|    0.5|       0.0|         0.0|                  0.3|         8.3|\n",
            "|       2| 2017-01-01 00:00:05|  2017-01-01 00:05:04|              5|         1.76|         1|                 N|         140|          74|           2|        7.0|  0.5|    0.5|       0.0|         0.0|                  0.3|         8.3|\n",
            "+--------+--------------------+---------------------+---------------+-------------+----------+------------------+------------+------------+------------+-----------+-----+-------+----------+------------+---------------------+------------+\n",
            "only showing top 10 rows\n",
            "\n"
          ]
        }
      ]
    },
    {
      "cell_type": "markdown",
      "metadata": {
        "id": "XUEgkuwPWW5E"
      },
      "source": [
        "## 2.2 - Zones"
      ]
    },
    {
      "cell_type": "markdown",
      "metadata": {
        "id": "t9WAloZ6WT9I"
      },
      "source": [
        "Next dataset contains the taxi zones. We can load it as before in a DataFrame of Spark."
      ]
    },
    {
      "cell_type": "code",
      "metadata": {
        "id": "oCIq4eciWZq3",
        "colab": {
          "base_uri": "https://localhost:8080/"
        },
        "outputId": "ed4105df-b280-4f17-be9d-0ed245f1825d"
      },
      "source": [
        "df_zones = spark.read.format(\"csv\").option(\"inferschema\", \"true\").option(\"header\", \"true\").option(\"mode\", \"DROPMALFORMED\").load(\"taxi+_zone_lookup.csv\")\n",
        "df_zones.show(10, False)\n",
        "print_shape(df_zones)"
      ],
      "execution_count": null,
      "outputs": [
        {
          "output_type": "stream",
          "name": "stdout",
          "text": [
            "+----------+-------------+-----------------------+------------+\n",
            "|LocationID|Borough      |Zone                   |service_zone|\n",
            "+----------+-------------+-----------------------+------------+\n",
            "|1         |EWR          |Newark Airport         |EWR         |\n",
            "|2         |Queens       |Jamaica Bay            |Boro Zone   |\n",
            "|3         |Bronx        |Allerton/Pelham Gardens|Boro Zone   |\n",
            "|4         |Manhattan    |Alphabet City          |Yellow Zone |\n",
            "|5         |Staten Island|Arden Heights          |Boro Zone   |\n",
            "|6         |Staten Island|Arrochar/Fort Wadsworth|Boro Zone   |\n",
            "|7         |Queens       |Astoria                |Boro Zone   |\n",
            "|8         |Queens       |Astoria Park           |Boro Zone   |\n",
            "|9         |Queens       |Auburndale             |Boro Zone   |\n",
            "|10        |Queens       |Baisley Park           |Boro Zone   |\n",
            "+----------+-------------+-----------------------+------------+\n",
            "only showing top 10 rows\n",
            "\n",
            "\n",
            "SHAPE\n",
            "--------------------\n",
            "|Rows    | Columns | \n",
            "--------------------\n",
            "|265     | 4       |\n",
            "--------------------\n"
          ]
        }
      ]
    },
    {
      "cell_type": "markdown",
      "metadata": {
        "id": "W5aSiaY2YVTi"
      },
      "source": [
        "Each ID is associated to an area, determined by the *Borough* and *Zone*. Then we compute another DataFrame concatenating these two columns into one, separating them with a '-'."
      ]
    },
    {
      "cell_type": "code",
      "metadata": {
        "colab": {
          "base_uri": "https://localhost:8080/"
        },
        "id": "HY9QEbDoeKMt",
        "outputId": "926ff573-75e2-4447-f8a6-79b502bca31b"
      },
      "source": [
        "df_concat_zones = df_zones.select(df_zones.LocationID, \n",
        "                                  concat(df_zones.Zone, lit(', '), df_zones.Borough).alias('Location'))\n",
        "df_concat_zones.show(10, False)\n",
        "print_shape(df_concat_zones)"
      ],
      "execution_count": null,
      "outputs": [
        {
          "output_type": "stream",
          "name": "stdout",
          "text": [
            "+----------+--------------------------------------+\n",
            "|LocationID|Location                              |\n",
            "+----------+--------------------------------------+\n",
            "|1         |Newark Airport, EWR                   |\n",
            "|2         |Jamaica Bay, Queens                   |\n",
            "|3         |Allerton/Pelham Gardens, Bronx        |\n",
            "|4         |Alphabet City, Manhattan              |\n",
            "|5         |Arden Heights, Staten Island          |\n",
            "|6         |Arrochar/Fort Wadsworth, Staten Island|\n",
            "|7         |Astoria, Queens                       |\n",
            "|8         |Astoria Park, Queens                  |\n",
            "|9         |Auburndale, Queens                    |\n",
            "|10        |Baisley Park, Queens                  |\n",
            "+----------+--------------------------------------+\n",
            "only showing top 10 rows\n",
            "\n",
            "\n",
            "SHAPE\n",
            "--------------------\n",
            "|Rows    | Columns | \n",
            "--------------------\n",
            "|265     | 2       |\n",
            "--------------------\n"
          ]
        }
      ]
    },
    {
      "cell_type": "markdown",
      "metadata": {
        "id": "ykBr7sSAWkKG"
      },
      "source": [
        "The result is a DataFrame which associates the ID to the whole area. Mention the column *service_zone* is removed, since it is not going to be used."
      ]
    },
    {
      "cell_type": "markdown",
      "metadata": {
        "id": "kM4pDeQ3LMFU"
      },
      "source": [
        "# 3 - Study Cases"
      ]
    },
    {
      "cell_type": "markdown",
      "metadata": {
        "id": "r5adPS0uM88A"
      },
      "source": [
        "In every case, we measured the computational time as well as the data processed and the velocity. Mention the initial time is obtained in the moment one action is executed, in order to be more accurate."
      ]
    },
    {
      "cell_type": "markdown",
      "metadata": {
        "id": "WHsL3QPeU8-z"
      },
      "source": [
        "Next function is employed during the notebook to show these data."
      ]
    },
    {
      "cell_type": "code",
      "metadata": {
        "id": "0EuVKokLc_r8"
      },
      "source": [
        "def print_time(time, data):\n",
        "    \"\"\"Print the time, number of processed rows and processing speed\n",
        "\n",
        "    Args:\n",
        "        time: measured time\n",
        "        data: number of processed rows\n",
        "\n",
        "    \"\"\"\n",
        "    print('\\nTIME AND DATA')\n",
        "    print(47*'-')\n",
        "    print(f\"{'|Time (secs)':33} | {time:<10.2f}|\")\n",
        "    print(47*'-')\n",
        "    print(f\"{'|Data Processed (registers)':33} | {data:<10}|\")\n",
        "    print(47*'-')\n",
        "    print(f\"{'|Processing speed (registers/sec)'} | {data/time:<10.2f}|\")\n",
        "    print(47*'-')"
      ],
      "execution_count": null,
      "outputs": []
    },
    {
      "cell_type": "markdown",
      "metadata": {
        "id": "mST32OtmP_MP"
      },
      "source": [
        "We save the total number of registers (rows)."
      ]
    },
    {
      "cell_type": "code",
      "metadata": {
        "id": "Cdi9DyVLP9GD"
      },
      "source": [
        "n_taxis = df.count()"
      ],
      "execution_count": null,
      "outputs": []
    },
    {
      "cell_type": "markdown",
      "metadata": {
        "id": "LucGVvFdZrKp"
      },
      "source": [
        "## 3.1 - Speed per hour\n",
        "\n",
        "The aim of this case study is showing how the averaged velocity of the taxis evolves per hour during a day."
      ]
    },
    {
      "cell_type": "markdown",
      "metadata": {
        "id": "Nukw1CnTNiGD"
      },
      "source": [
        "### 3.1.1 - SQL Query\n",
        "\n",
        "We employ SQL queries into Spark to obtain the data. In this case is used a **subquery factoring**. \n",
        "\n",
        "First it is obtained the hours from *tpep_pickup_datetime*, the total distance and the total spent time. For the distance it is necessary to sum the values of all registers and converted it to kilometers. In the case of the time, firstly it is substracted the picked up time and the dropped off time, using the **unix_timestamp** package. Then the values are added and converted to hours. This query is referred in the code as *TOTALS*.\n",
        "\n",
        "Second, it is selected the hours from 0 to 23 and computed the divison between the total distance and the total spent time."
      ]
    },
    {
      "cell_type": "code",
      "metadata": {
        "colab": {
          "base_uri": "https://localhost:8080/"
        },
        "id": "kr7RMvInoGc9",
        "outputId": "62c52929-1c94-46f1-c040-1d4adec41bb1"
      },
      "source": [
        "from pyspark.sql import SQLContext\n",
        "import time\n",
        "\n",
        "# Register DataFrame table to use it in the SQL query\n",
        "df.registerTempTable(\"df\")\n",
        "\n",
        "# Spark SQL - Transformation\n",
        "df_velocity = spark.sql(\"\"\"WITH totals as (\n",
        "    SELECT HOUR(tpep_pickup_datetime) AS hour, (SUM(trip_distance))*1.609 AS total_distance, SUM(unix_timestamp(tpep_dropoff_datetime)-unix_timestamp(tpep_pickup_datetime))/(3600) as total_hours\n",
        "    FROM df\n",
        "    GROUP BY hour\n",
        "    ORDER BY hour)\n",
        "    SELECT totals.hour, totals.total_distance/totals.total_hours as kilometers_hour\n",
        "    FROM totals\"\"\")\n",
        "\n",
        "# Initial time, just before first action\n",
        "st = time.time()\n",
        "\n",
        "# Print table - First action\n",
        "df_velocity.show(24)\n",
        "\n",
        "# Final time\n",
        "t = time.time() - st\n",
        "\n",
        "# Print rows and cols of obtained DataFrame\n",
        "print_shape(df_velocity)\n",
        "\n",
        "# Print measurements\n",
        "print_time(t, n_taxis)"
      ],
      "execution_count": null,
      "outputs": [
        {
          "output_type": "stream",
          "name": "stdout",
          "text": [
            "+----+------------------+\n",
            "|hour|   kilometers_hour|\n",
            "+----+------------------+\n",
            "|   0| 18.52876600942067|\n",
            "|   1|17.481685403591264|\n",
            "|   2| 18.99629619304774|\n",
            "|   3|20.937983757354935|\n",
            "|   4|23.205822459303604|\n",
            "|   5|29.454663833214383|\n",
            "|   6|27.937571660735667|\n",
            "|   7| 22.95913760454797|\n",
            "|   8|18.686379132868176|\n",
            "|   9| 17.42591340955725|\n",
            "|  10|19.176745309445327|\n",
            "|  11|18.156677442333123|\n",
            "|  12|18.144214640999657|\n",
            "|  13| 18.74564660452672|\n",
            "|  14| 19.95288961245248|\n",
            "|  15|19.334145045355367|\n",
            "|  16| 19.04686543339652|\n",
            "|  17|18.285002170223105|\n",
            "|  18|17.968345700160327|\n",
            "|  19|18.862098360244456|\n",
            "|  20|20.373494627257735|\n",
            "|  21| 21.49266509751833|\n",
            "|  22|  22.6773573550554|\n",
            "|  23|24.099663526778663|\n",
            "+----+------------------+\n",
            "\n",
            "\n",
            "SHAPE\n",
            "--------------------\n",
            "|Rows    | Columns | \n",
            "--------------------\n",
            "|24      | 2       |\n",
            "--------------------\n",
            "\n",
            "TIME AND DATA\n",
            "-----------------------------------------------\n",
            "|Time (secs)                      | 9.28      |\n",
            "-----------------------------------------------\n",
            "|Data Processed (registers)       | 971010    |\n",
            "-----------------------------------------------\n",
            "|Processing speed (registers/sec) | 104609.49 |\n",
            "-----------------------------------------------\n"
          ]
        }
      ]
    },
    {
      "cell_type": "markdown",
      "metadata": {
        "id": "Uux37MYWNmae"
      },
      "source": [
        "### 3.1.2 - Data visualization\n",
        "\n",
        "In order to visualize the data, we plotted a barplot of the averaged speed per hour during a day.\n",
        "\n"
      ]
    },
    {
      "cell_type": "code",
      "metadata": {
        "colab": {
          "base_uri": "https://localhost:8080/",
          "height": 621
        },
        "id": "mrtRyVwpNami",
        "outputId": "385c6f08-bdc4-4330-8f80-be0e1c1ed10e"
      },
      "source": [
        "import matplotlib.pyplot as plt\n",
        "\n",
        "# Plot barplot\n",
        "pdf = df_velocity.toPandas()\n",
        "plt.figure(figsize=(14,10))\n",
        "plt.bar(pdf.hour, height=pdf.kilometers_hour)\n",
        "plt.xticks(range(0,24))\n",
        "plt.title('Barplot of averaged speed per hour in a day')\n",
        "plt.xlabel('Hour')\n",
        "plt.ylabel('Speed (km/h)')\n",
        "plt.show()"
      ],
      "execution_count": null,
      "outputs": [
        {
          "output_type": "display_data",
          "data": {
            "image/png": "[encoded data removed]",
            "text/plain": [
              "<Figure size 1008x720 with 1 Axes>"
            ]
          },
          "metadata": {
            "needs_background": "light"
          }
        }
      ]
    },
    {
      "cell_type": "markdown",
      "metadata": {
        "id": "O7ir-hziVmmX"
      },
      "source": [
        "As it can be seen, the fastest hours are in the early morning, when there is not a lot of traffic. In the peak hours, the averaged speed is quite reduced due to the increased number of vehicles."
      ]
    },
    {
      "cell_type": "markdown",
      "metadata": {
        "id": "_1GD3M_zcIjy"
      },
      "source": [
        "## 3.2 - Most Common taxi trips\n",
        "\n",
        "The second study provides the most common taxi trips in January 2017.\n",
        "\n"
      ]
    },
    {
      "cell_type": "markdown",
      "metadata": {
        "id": "Z2StfQhU80do"
      },
      "source": [
        "### 3.2.1 - Count\n",
        "\n",
        "At first moment it is employed the *count* method. The original DataFrame is grouped by the picked up location and dropped of location. Then we count the number of registers per trip (same origin and destination) and sorted them in descent order."
      ]
    },
    {
      "cell_type": "code",
      "metadata": {
        "colab": {
          "base_uri": "https://localhost:8080/"
        },
        "id": "80k73f36gDUh",
        "outputId": "34974a2f-2001-446b-a64f-905a29f975d5"
      },
      "source": [
        "\n",
        "# Query - Transformation\n",
        "df_id_count = df.groupBy('PULocationID', 'DOLocationID')\\\n",
        "                .count().withColumnRenamed('count', 'Number of trips')\\\n",
        "                .sort(desc('Number of trips'))\n",
        "\n",
        "# Initial time, just before first action\n",
        "st = time.time()\n",
        "\n",
        "# Print table - First action\n",
        "df_id_count.show(10)\n",
        "\n",
        "# Final time\n",
        "t = time.time() - st\n",
        "\n",
        "# Print rows and cols of obtained DataFrame\n",
        "print_shape(df_id_count)\n",
        "\n",
        "# Print measurements\n",
        "print_time(t, n_taxis)"
      ],
      "execution_count": null,
      "outputs": [
        {
          "output_type": "stream",
          "name": "stdout",
          "text": [
            "+------------+------------+---------------+\n",
            "|PULocationID|DOLocationID|Number of trips|\n",
            "+------------+------------+---------------+\n",
            "|         264|         264|          14776|\n",
            "|         237|         236|           3433|\n",
            "|         236|         236|           3174|\n",
            "|         236|         237|           3011|\n",
            "|         230|         246|           2944|\n",
            "|          79|          79|           2939|\n",
            "|         237|         237|           2744|\n",
            "|         239|         142|           2595|\n",
            "|         239|         238|           2539|\n",
            "|         142|         239|           2471|\n",
            "+------------+------------+---------------+\n",
            "only showing top 10 rows\n",
            "\n",
            "\n",
            "SHAPE\n",
            "--------------------\n",
            "|Rows    | Columns | \n",
            "--------------------\n",
            "|16738   | 3       |\n",
            "--------------------\n",
            "\n",
            "TIME AND DATA\n",
            "-----------------------------------------------\n",
            "|Time (secs)                      | 4.18      |\n",
            "-----------------------------------------------\n",
            "|Data Processed (registers)       | 971010    |\n",
            "-----------------------------------------------\n",
            "|Processing speed (registers/sec) | 232297.60 |\n",
            "-----------------------------------------------\n"
          ]
        }
      ]
    },
    {
      "cell_type": "markdown",
      "metadata": {
        "id": "L2YgVMH18vwJ"
      },
      "source": [
        "### 3.2.2 - Map and Reduce\n",
        "Besides *count method*, we wanted to perform the same operations with *Map Reduce*. The process is detailed in next lines."
      ]
    },
    {
      "cell_type": "markdown",
      "metadata": {
        "id": "b2iHtk_yYm6d"
      },
      "source": [
        "The first step is obtaining a column which joins the origin ID with the destination ID. We can do it with a select in the original DataFrame of taxis."
      ]
    },
    {
      "cell_type": "code",
      "metadata": {
        "colab": {
          "base_uri": "https://localhost:8080/"
        },
        "id": "bwceHrYa-vXT",
        "outputId": "259f16ef-5a2e-4c42-d9dc-df9077d7dc91"
      },
      "source": [
        "df_trips = df.select(concat(df.PULocationID, lit('-'), df.DOLocationID).alias('Trip'))\n",
        "df_trips.show(10)"
      ],
      "execution_count": null,
      "outputs": [
        {
          "output_type": "stream",
          "name": "stdout",
          "text": [
            "+-------+\n",
            "|   Trip|\n",
            "+-------+\n",
            "|263-161|\n",
            "|186-234|\n",
            "|164-161|\n",
            "| 236-75|\n",
            "|249-234|\n",
            "|  48-48|\n",
            "| 186-36|\n",
            "|162-161|\n",
            "|  48-50|\n",
            "| 140-74|\n",
            "+-------+\n",
            "only showing top 10 rows\n",
            "\n"
          ]
        }
      ]
    },
    {
      "cell_type": "markdown",
      "metadata": {
        "id": "NLnP74p4Y76P"
      },
      "source": [
        "Before applying **Map Reduce** algorithm, it is necessary to convert the DataFrame into a **rdd**. Then we can process the data calling two functions: \n",
        "\n",
        "*   **map**: iterating over the column *Trip*, each element is stored in a tuple occupying the first position. With this operation we are taking only the column text instead of a row (from two dimensions to one). We store a 1 as a value in each tuple to be able to count them in next part.\n",
        "\n",
        "*   **reduceByKey**: now tuples with same key (same trip) are added, so the total number is reduced.\n",
        "\n",
        "After this process, we sort the obtained list in descent order according to the values.\n",
        "\n",
        "\n",
        "\n"
      ]
    },
    {
      "cell_type": "code",
      "metadata": {
        "colab": {
          "base_uri": "https://localhost:8080/"
        },
        "id": "UDtblAbJgm0s",
        "outputId": "28cd521a-15dc-4415-e038-95b6196c05e8"
      },
      "source": [
        "trips_count = df_trips.rdd.map(lambda x: (x['Trip'], 1)).reduceByKey(lambda x, y: x+y).sortBy(lambda x: x[1], False)\n",
        "trips_count.take(10)"
      ],
      "execution_count": null,
      "outputs": [
        {
          "output_type": "execute_result",
          "data": {
            "text/plain": [
              "[('264-264', 14776),\n",
              " ('237-236', 3433),\n",
              " ('236-236', 3174),\n",
              " ('236-237', 3011),\n",
              " ('230-246', 2944),\n",
              " ('79-79', 2939),\n",
              " ('237-237', 2744),\n",
              " ('239-142', 2595),\n",
              " ('239-238', 2539),\n",
              " ('142-239', 2471)]"
            ]
          },
          "metadata": {},
          "execution_count": 19
        }
      ]
    },
    {
      "cell_type": "markdown",
      "metadata": {
        "id": "1OtQzb6YbCEf"
      },
      "source": [
        "A new DataFrame is created from the previous list."
      ]
    },
    {
      "cell_type": "code",
      "metadata": {
        "colab": {
          "base_uri": "https://localhost:8080/"
        },
        "id": "oo-wpZRDnBtp",
        "outputId": "d680dd0b-00a0-4479-ace5-fc6dcbb9cf05"
      },
      "source": [
        "df_trips_mr = trips_count.toDF(['Trip', 'Number of trips']).sort(desc('Number of trips'))\n",
        "df_trips_mr.show(10)"
      ],
      "execution_count": null,
      "outputs": [
        {
          "output_type": "stream",
          "name": "stdout",
          "text": [
            "+-------+---------------+\n",
            "|   Trip|Number of trips|\n",
            "+-------+---------------+\n",
            "|264-264|          14776|\n",
            "|237-236|           3433|\n",
            "|236-236|           3174|\n",
            "|236-237|           3011|\n",
            "|230-246|           2944|\n",
            "|  79-79|           2939|\n",
            "|237-237|           2744|\n",
            "|239-142|           2595|\n",
            "|239-238|           2539|\n",
            "|142-239|           2471|\n",
            "+-------+---------------+\n",
            "only showing top 10 rows\n",
            "\n"
          ]
        }
      ]
    },
    {
      "cell_type": "markdown",
      "metadata": {
        "id": "hiBVtojUbUUJ"
      },
      "source": [
        "In order to get the same result than with the method *count*, the columns are splitted to recover the original form."
      ]
    },
    {
      "cell_type": "code",
      "metadata": {
        "id": "W8G4f7HPoCnM",
        "colab": {
          "base_uri": "https://localhost:8080/"
        },
        "outputId": "069346ad-0f61-4158-d82f-eb7fb3e93f30"
      },
      "source": [
        "split_col = split(df_trips_mr['Trip'], '-')\n",
        "df_id_mr = df_trips_mr.select(split_col.getItem(0).alias('PULocationID'), split_col.getItem(1).alias('DOLocationID'), 'Number of trips')\n",
        "df_id_mr.show(10)"
      ],
      "execution_count": null,
      "outputs": [
        {
          "output_type": "stream",
          "name": "stdout",
          "text": [
            "+------------+------------+---------------+\n",
            "|PULocationID|DOLocationID|Number of trips|\n",
            "+------------+------------+---------------+\n",
            "|         264|         264|          14776|\n",
            "|         237|         236|           3433|\n",
            "|         236|         236|           3174|\n",
            "|         236|         237|           3011|\n",
            "|         230|         246|           2944|\n",
            "|          79|          79|           2939|\n",
            "|         237|         237|           2744|\n",
            "|         239|         142|           2595|\n",
            "|         239|         238|           2539|\n",
            "|         142|         239|           2471|\n",
            "+------------+------------+---------------+\n",
            "only showing top 10 rows\n",
            "\n"
          ]
        }
      ]
    },
    {
      "cell_type": "markdown",
      "metadata": {
        "id": "YDIJXJw1beuP"
      },
      "source": [
        "Now we can implement the whole process into one cell in order to compare the performance with the previous section. Take into account the time is measured until the number of trips are obtained, since splitting the DataFrame is not required for our goal."
      ]
    },
    {
      "cell_type": "code",
      "metadata": {
        "id": "9OM7y1rnjWYF",
        "colab": {
          "base_uri": "https://localhost:8080/"
        },
        "outputId": "6acb7a2f-bbdf-4d3f-c115-cc36cf6defb6"
      },
      "source": [
        "# Query - Transformation\n",
        "df_trips = df.select(concat(df.PULocationID, lit('-'), df.DOLocationID).alias('Trip'))\n",
        "\n",
        "# Initial time, just before first action\n",
        "st = time.time()\n",
        "\n",
        "# Map and Reduce - First action\n",
        "trips_count = df_trips.rdd.map(lambda x: (x['Trip'], 1)).reduceByKey(lambda x, y: x+y).sortBy(lambda x: x[1], False)\n",
        "\n",
        "# Convert list to DataFrame\n",
        "df_trips_mr = trips_count.toDF(['Trip', 'Number of trips']).sort(desc('Number of trips'))\n",
        "\n",
        "# Final time\n",
        "t = time.time() - st\n",
        "\n",
        "# Split columns to obtain original form\n",
        "split_col = split(df_trips_mr['Trip'], '-')\n",
        "df_id_mr = df_trips_mr.select(split_col.getItem(0).alias('PULocationID'), split_col.getItem(1).alias('DOLocationID'), 'Number of trips')\n",
        "\n",
        "# Print table\n",
        "df_id_mr.show(10)\n",
        "\n",
        "# Print rows and cols of obtained DataFrame\n",
        "print_shape(df_id_mr)\n",
        "\n",
        "# Print measurements\n",
        "print_time(t, n_taxis)"
      ],
      "execution_count": null,
      "outputs": [
        {
          "output_type": "stream",
          "name": "stdout",
          "text": [
            "+------------+------------+---------------+\n",
            "|PULocationID|DOLocationID|Number of trips|\n",
            "+------------+------------+---------------+\n",
            "|         264|         264|          14776|\n",
            "|         237|         236|           3433|\n",
            "|         236|         236|           3174|\n",
            "|         236|         237|           3011|\n",
            "|         230|         246|           2944|\n",
            "|          79|          79|           2939|\n",
            "|         237|         237|           2744|\n",
            "|         239|         142|           2595|\n",
            "|         239|         238|           2539|\n",
            "|         142|         239|           2471|\n",
            "+------------+------------+---------------+\n",
            "only showing top 10 rows\n",
            "\n",
            "\n",
            "SHAPE\n",
            "--------------------\n",
            "|Rows    | Columns | \n",
            "--------------------\n",
            "|16738   | 3       |\n",
            "--------------------\n",
            "\n",
            "TIME AND DATA\n",
            "-----------------------------------------------\n",
            "|Time (secs)                      | 7.82      |\n",
            "-----------------------------------------------\n",
            "|Data Processed (registers)       | 971010    |\n",
            "-----------------------------------------------\n",
            "|Processing speed (registers/sec) | 124174.87 |\n",
            "-----------------------------------------------\n"
          ]
        }
      ]
    },
    {
      "cell_type": "markdown",
      "metadata": {
        "id": "22rKqiR8dIwy"
      },
      "source": [
        "Time is longer than with the *count* method. It has been also tested measuring the time before converting the list of map and reduce, and the result is almost the same. Due to that, we can confirm first method is faster."
      ]
    },
    {
      "cell_type": "markdown",
      "metadata": {
        "id": "cNbueZTy-kIE"
      },
      "source": [
        "### 3.2.3 - Data visualization\n",
        "\n",
        "Another barplot is employed to show the most commont trips in Janaury 2017. Selecting a number as *TOP*, it is printed in table format and in the barplot."
      ]
    },
    {
      "cell_type": "code",
      "metadata": {
        "colab": {
          "base_uri": "https://localhost:8080/",
          "height": 893
        },
        "id": "K7dKd9tKj9ZE",
        "outputId": "e84b818f-8fe5-41e2-dac4-25eb02b8b0e9"
      },
      "source": [
        "#@title \n",
        "TOP = 10 #@param {type:\"integer\"}\n",
        "\n",
        "# Print table\n",
        "df_trips_mr.show(10)\n",
        "\n",
        "# Plot barplot\n",
        "pdf = df_trips_mr.limit(TOP).toPandas()\n",
        "plt.figure(figsize=(14,10))\n",
        "plt.bar(pdf.Trip, height=pdf['Number of trips'])\n",
        "plt.xticks(range(0,TOP))\n",
        "plt.title(f'Top {TOP} trips in January 2017')\n",
        "plt.ylabel('Number of trips')\n",
        "plt.xlabel('Trip')\n",
        "plt.show()"
      ],
      "execution_count": null,
      "outputs": [
        {
          "output_type": "stream",
          "name": "stdout",
          "text": [
            "+-------+---------------+\n",
            "|   Trip|Number of trips|\n",
            "+-------+---------------+\n",
            "|264-264|          14776|\n",
            "|237-236|           3433|\n",
            "|236-236|           3174|\n",
            "|236-237|           3011|\n",
            "|230-246|           2944|\n",
            "|  79-79|           2939|\n",
            "|237-237|           2744|\n",
            "|239-142|           2595|\n",
            "|239-238|           2539|\n",
            "|142-239|           2471|\n",
            "+-------+---------------+\n",
            "only showing top 10 rows\n",
            "\n"
          ]
        },
        {
          "output_type": "display_data",
          "data": {
            "image/png": "[encoded data removed]",
            "text/plain": [
              "<Figure size 1008x720 with 1 Axes>"
            ]
          },
          "metadata": {
            "needs_background": "light"
          }
        }
      ]
    },
    {
      "cell_type": "markdown",
      "metadata": {
        "id": "-ZRcsBQ1A4lm"
      },
      "source": [
        "### 3.2.4 - Translating Zones IDs\n",
        "\n",
        "In this part we employed both datasets to match the zone ID with the corresponding area in text format. In section 2.2 it is obtained the concatenated DataFrame of the 265 possible locations.\n",
        "\n"
      ]
    },
    {
      "cell_type": "code",
      "metadata": {
        "colab": {
          "base_uri": "https://localhost:8080/"
        },
        "id": "basSSU2blgzW",
        "outputId": "c2b43793-e5ef-4210-fd84-c769f2543dca"
      },
      "source": [
        "df_concat_zones.show(10, False)\n",
        "df_concat_zones.count()\n",
        "print_shape(df_concat_zones)"
      ],
      "execution_count": null,
      "outputs": [
        {
          "output_type": "stream",
          "name": "stdout",
          "text": [
            "+----------+--------------------------------------+\n",
            "|LocationID|Location                              |\n",
            "+----------+--------------------------------------+\n",
            "|1         |Newark Airport, EWR                   |\n",
            "|2         |Jamaica Bay, Queens                   |\n",
            "|3         |Allerton/Pelham Gardens, Bronx        |\n",
            "|4         |Alphabet City, Manhattan              |\n",
            "|5         |Arden Heights, Staten Island          |\n",
            "|6         |Arrochar/Fort Wadsworth, Staten Island|\n",
            "|7         |Astoria, Queens                       |\n",
            "|8         |Astoria Park, Queens                  |\n",
            "|9         |Auburndale, Queens                    |\n",
            "|10        |Baisley Park, Queens                  |\n",
            "+----------+--------------------------------------+\n",
            "only showing top 10 rows\n",
            "\n",
            "\n",
            "SHAPE\n",
            "--------------------\n",
            "|Rows    | Columns | \n",
            "--------------------\n",
            "|265     | 2       |\n",
            "--------------------\n"
          ]
        }
      ]
    },
    {
      "cell_type": "markdown",
      "metadata": {
        "id": "DfnSk3b2fEFj"
      },
      "source": [
        "In order to match both datasets, it is applied a SQL query in a pipeline.\n",
        "\n",
        "1.   Joining the DataFrame with the number of trips with the concatenated DataFrame of the taxi zones, macthing *PULocationID* and the *LocationID*.\n",
        "2.   Selecting the *PULocationID* and the location from the taxi zones. Also the *DOLocationID* and the number of trips.\n",
        "\n",
        "Now the process is repeated but in this case matching the *DOLocationID* with the *LocationID*. It is necessary to perform these two joins separately in order to avoid ambiguity problems with the *LocationID* of the taxi zones DataFrame.\n",
        "\n",
        "\n",
        "\n"
      ]
    },
    {
      "cell_type": "code",
      "metadata": {
        "colab": {
          "base_uri": "https://localhost:8080/"
        },
        "id": "IC9BRSk50Eom",
        "outputId": "a078994d-0184-4c97-b647-977dcd8b03ca"
      },
      "source": [
        "# Query - Transformation\n",
        "df_id_zone_count = df_id_mr.join(df_concat_zones, \n",
        "                                   df_id_mr.PULocationID == df_concat_zones.LocationID) \\\n",
        "                             .select('PULocationID', \n",
        "                                     df_concat_zones.Location.alias('PULocation'),\n",
        "                                     'DOLocationID',\n",
        "                                     'Number of trips')\\\n",
        "                             .join(df_concat_zones, \n",
        "                                   df_id_mr.DOLocationID == df_concat_zones.LocationID)\\\n",
        "                             .select('PULocationID', \n",
        "                                     'PULocation',\n",
        "                                     'DOLocationID',\n",
        "                                     df_concat_zones.Location.alias('DOLocation'),\n",
        "                                     'Number of trips')\n",
        "\n",
        "# Initial time, just before first action\n",
        "st = time.time()         \n",
        "\n",
        "# Print table - First action               \n",
        "df_id_zone_count.show(10, False)\n",
        "\n",
        "# Final time\n",
        "t = time.time() - st\n",
        "\n",
        "# Print rows and cols of obtained DataFrame\n",
        "print_shape(df_id_zone_count)\n",
        "\n",
        "# Print measurements\n",
        "print_time(t, df_id_mr.count())"
      ],
      "execution_count": null,
      "outputs": [
        {
          "output_type": "stream",
          "name": "stdout",
          "text": [
            "+------------+------------------------------------+------------+------------------------------------+---------------+\n",
            "|PULocationID|PULocation                          |DOLocationID|DOLocation                          |Number of trips|\n",
            "+------------+------------------------------------+------------+------------------------------------+---------------+\n",
            "|264         |NV, Unknown                         |264         |NV, Unknown                         |14776          |\n",
            "|237         |Upper East Side South, Manhattan    |236         |Upper East Side North, Manhattan    |3433           |\n",
            "|236         |Upper East Side North, Manhattan    |236         |Upper East Side North, Manhattan    |3174           |\n",
            "|236         |Upper East Side North, Manhattan    |237         |Upper East Side South, Manhattan    |3011           |\n",
            "|230         |Times Sq/Theatre District, Manhattan|246         |West Chelsea/Hudson Yards, Manhattan|2944           |\n",
            "|79          |East Village, Manhattan             |79          |East Village, Manhattan             |2939           |\n",
            "|237         |Upper East Side South, Manhattan    |237         |Upper East Side South, Manhattan    |2744           |\n",
            "|239         |Upper West Side South, Manhattan    |142         |Lincoln Square East, Manhattan      |2595           |\n",
            "|239         |Upper West Side South, Manhattan    |238         |Upper West Side North, Manhattan    |2539           |\n",
            "|142         |Lincoln Square East, Manhattan      |239         |Upper West Side South, Manhattan    |2471           |\n",
            "+------------+------------------------------------+------------+------------------------------------+---------------+\n",
            "only showing top 10 rows\n",
            "\n",
            "\n",
            "SHAPE\n",
            "--------------------\n",
            "|Rows    | Columns | \n",
            "--------------------\n",
            "|16738   | 5       |\n",
            "--------------------\n",
            "\n",
            "TIME AND DATA\n",
            "-----------------------------------------------\n",
            "|Time (secs)                      | 0.55      |\n",
            "-----------------------------------------------\n",
            "|Data Processed (registers)       | 16738     |\n",
            "-----------------------------------------------\n",
            "|Processing speed (registers/sec) | 30609.95  |\n",
            "-----------------------------------------------\n"
          ]
        }
      ]
    },
    {
      "cell_type": "markdown",
      "metadata": {
        "id": "yk6fMa902m5s"
      },
      "source": [
        "## 3.3 - Classifier"
      ]
    },
    {
      "cell_type": "markdown",
      "metadata": {
        "id": "YMgCOyBpgmyD"
      },
      "source": [
        "In this section we implement a classifier that, knowing some of the attributes provided in the dataset we are using in this lab, predicts if the corresponing person/people left some tip or not, without taking care of the amount."
      ]
    },
    {
      "cell_type": "markdown",
      "metadata": {
        "id": "qre22XQ2u0li"
      },
      "source": [
        "### 3.3.1 - Preprocessing data"
      ]
    },
    {
      "cell_type": "markdown",
      "metadata": {
        "id": "vYoadpO4vHWq"
      },
      "source": [
        "First, we convert the column 'tip_amount' to a binary variable: 1 if that person left tip and 0 if not.\n",
        "\n",
        "Then, we select the variables we will use to predict, which are:\n",
        "* passenger_count\n",
        "* trip_distance\n",
        "* RatecodeID\n",
        "* PULocationID\n",
        "* DOLocationID\n",
        "* payment_type\n",
        "* fare_amount\n"
      ]
    },
    {
      "cell_type": "code",
      "metadata": {
        "id": "0dYNaz6NT4Y_"
      },
      "source": [
        "df_tree = df.withColumn('tip_amount', expr('CASE WHEN tip_amount > 0  THEN 1 ' +\n",
        "           \"ELSE 0 END\"))\n",
        "df_tree = df_tree.drop('tpep_pickup_datetime').drop('tpep_dropoff_datetime').drop('total_amount').drop('improvement_surcharge').drop('tolls_amount') \\\n",
        "              .drop('mta_tax').drop('extra').drop('store_and_fwd_flag').drop('VendorID')"
      ],
      "execution_count": null,
      "outputs": []
    },
    {
      "cell_type": "markdown",
      "metadata": {
        "id": "a3CW9jwciR7R"
      },
      "source": [
        "After this, we need some preprocessing to create de Binary Tree Classifier. We have to indicate that now, the column 'tip_amount' is categorical variable and not numeric.\n",
        "\n",
        "Another preprocessing needed is vectorizing the features. This is a particular requisite to apply machine learning in PySpark."
      ]
    },
    {
      "cell_type": "code",
      "metadata": {
        "id": "1ApCynhvhtXG"
      },
      "source": [
        "from pyspark.ml.feature import StringIndexer, VectorAssembler\n",
        "\n",
        "stages = []\n",
        "\n",
        "label_stringIdx = StringIndexer(inputCol = 'tip_amount', outputCol = 'label')\n",
        "stages += [label_stringIdx]\n",
        "\n",
        "assemblerInputs = ['passenger_count', 'trip_distance','RatecodeID', 'PULocationID','DOLocationID', 'payment_type', 'fare_amount']\n",
        "\n",
        "assembler = VectorAssembler(inputCols=assemblerInputs, outputCol=\"features\")\n",
        "\n",
        "stages += [assembler]"
      ],
      "execution_count": null,
      "outputs": []
    },
    {
      "cell_type": "markdown",
      "metadata": {
        "id": "lV_KlJ5ciwes"
      },
      "source": [
        "Now, we are ready to separate between train and test data. We use the 70% of the rows to train the model and the other 30% is used to test the performance."
      ]
    },
    {
      "cell_type": "code",
      "metadata": {
        "colab": {
          "base_uri": "https://localhost:8080/"
        },
        "id": "416aoFunYUcr",
        "outputId": "521ea181-d7f2-43e4-dd41-8ab092c442a5"
      },
      "source": [
        "from pyspark.ml import Pipeline\n",
        "\n",
        "pipeline = Pipeline(stages = stages)\n",
        "\n",
        "pipelineModel = pipeline.fit(df_tree)\n",
        "df_tree = pipelineModel.transform(df_tree)\n",
        "selectedCols = ['label', 'features']\n",
        "df_tree = df_tree.select(selectedCols)\n",
        "df_tree.printSchema()\n",
        "\n",
        "train, test = df_tree.randomSplit([0.7, 0.3], seed = 2018)\n",
        "print(f\"Training Dataset Count: {train.count()}\")\n",
        "print(f\"Test Dataset Count: {test.count()}\")"
      ],
      "execution_count": null,
      "outputs": [
        {
          "output_type": "stream",
          "name": "stdout",
          "text": [
            "root\n",
            " |-- label: double (nullable = false)\n",
            " |-- features: vector (nullable = true)\n",
            "\n",
            "Training Dataset Count: 679865\n",
            "Test Dataset Count: 291145\n"
          ]
        }
      ]
    },
    {
      "cell_type": "markdown",
      "metadata": {
        "id": "SI8bYVT7vMgp"
      },
      "source": [
        "### 3.3.2 - Building the model"
      ]
    },
    {
      "cell_type": "markdown",
      "metadata": {
        "id": "TZNvkL6bvtr1"
      },
      "source": [
        "With all the preprocessing already performed we can build our binary classification model. We use a **Decision Tree** with a maximun depth of 4 in order to avoid over-fitting."
      ]
    },
    {
      "cell_type": "code",
      "metadata": {
        "colab": {
          "base_uri": "https://localhost:8080/"
        },
        "id": "O4N_x7qCvM_2",
        "outputId": "55d4f9f4-e4df-4b99-ce45-3b92de9e0e8e"
      },
      "source": [
        "from pyspark.ml.classification import DecisionTreeClassifier\n",
        "\n",
        "# Build the model\n",
        "dt = DecisionTreeClassifier(featuresCol = 'features', labelCol = 'label', maxDepth = 4)\n",
        "\n",
        "# Initial time, just before first action\n",
        "st = time.time()\n",
        "\n",
        "# Train the model - First action \n",
        "dtModel = dt.fit(train)\n",
        "\n",
        "# Predictions\n",
        "predictions = dtModel.transform(test)\n",
        "\n",
        "# Final time\n",
        "t = time.time() - st\n",
        "\n",
        "# Print measurements\n",
        "print_time(t, train.count())"
      ],
      "execution_count": null,
      "outputs": [
        {
          "output_type": "stream",
          "name": "stdout",
          "text": [
            "\n",
            "TIME AND DATA\n",
            "-----------------------------------------------\n",
            "|Time (secs)                      | 30.94     |\n",
            "-----------------------------------------------\n",
            "|Data Processed (registers)       | 679865    |\n",
            "-----------------------------------------------\n",
            "|Processing speed (registers/sec) | 21977.07  |\n",
            "-----------------------------------------------\n"
          ]
        }
      ]
    },
    {
      "cell_type": "markdown",
      "metadata": {
        "id": "3o2L5E30wBqc"
      },
      "source": [
        "### 3.3.3 - Performance"
      ]
    },
    {
      "cell_type": "markdown",
      "metadata": {
        "id": "4h6k56BPrkC0"
      },
      "source": [
        "The metric used to measure the performance of this classifier is the **Area Under the ROC curve (AUC)**. We also plot this ROC Curve using the method provided by scikit-learn."
      ]
    },
    {
      "cell_type": "code",
      "metadata": {
        "colab": {
          "base_uri": "https://localhost:8080/",
          "height": 637
        },
        "id": "fKB0L69vcSUB",
        "outputId": "b0b3dc1b-ecfd-43f6-a05e-a9c452ede66e"
      },
      "source": [
        "from matplotlib import pyplot as plt\n",
        "from sklearn.metrics import roc_curve\n",
        "from pyspark.ml.evaluation import BinaryClassificationEvaluator\n",
        "\n",
        "evaluator = BinaryClassificationEvaluator()\n",
        "auc = evaluator.evaluate(predictions, {evaluator.metricName: \"areaUnderROC\"})\n",
        "\n",
        "prs = predictions.select('probability').toPandas()\n",
        "prs['probability'] = prs['probability'].str[1]\n",
        "y_tst = test.select('label').toPandas()\n",
        "\n",
        "# Calculate roc curves\n",
        "lr_fpr, lr_tpr, _ = roc_curve(y_tst, prs)\n",
        "\n",
        "# Plot the roc curve for the model\n",
        "plt.figure(figsize=(14,10))\n",
        "plt.plot(lr_fpr, lr_tpr, label='Decision Tree Classifier')\n",
        "plt.title(f'Receiver Operating Characteristic (ROC)\\nAUC = {auc:.2f}')\n",
        "plt.ylabel('True Positive Rate')\n",
        "plt.xlabel('False Positive Rate')\n",
        "plt.legend(loc='lower right')\n",
        "plt.show()"
      ],
      "execution_count": null,
      "outputs": [
        {
          "output_type": "display_data",
          "data": {
            "image/png": "[encoded data removed]",
            "text/plain": [
              "<Figure size 1008x720 with 1 Axes>"
            ]
          },
          "metadata": {
            "needs_background": "light"
          }
        }
      ]
    },
    {
      "cell_type": "markdown",
      "metadata": {
        "id": "C6WpF-IwxTbp"
      },
      "source": [
        "After trying with different variables to predict if the passenger(s) were going to leave any tip, we concluded that the key variable used by the model is the *payment_type*. This makes sense, since the data dictionary says for the *tip_amount* column: \"This field is automatically populated for credit card tips. Cash tips are not included.\""
      ]
    }
  ]
}